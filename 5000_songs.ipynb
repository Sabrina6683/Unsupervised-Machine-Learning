{
 "cells": [
  {
   "cell_type": "code",
   "execution_count": null,
   "id": "aba5f13b",
   "metadata": {},
   "outputs": [],
   "source": [
    "# import libraries\n",
    "\n",
    "import pandas as pd\n",
    "\n",
    "from sklearn import set_config\n",
    "set_config(transform_output='pandas') \n",
    "\n",
    "from sklearn.metrics import pairwise_distances\n",
    "import matplotlib.pyplot as plt\n",
    "import seaborn as sns\n",
    "from sklearn.preprocessing import MinMaxScaler\n",
    "from sklearn.preprocessing import MaxAbsScaler\n",
    "from sklearn.preprocessing import StandardScaler\n",
    "from sklearn.preprocessing import RobustScaler\n",
    "\n",
    "from sklearn.cluster import KMeans\n",
    "\n",
    "import plotly.express as px\n",
    "\n",
    "import random\n",
    "\n",
    "from sklearn.cluster import KMeans\n",
    "from sklearn.metrics import silhouette_score\n",
    "\n",
    "from sklearn.metrics import silhouette_score, silhouette_samples\n",
    "import numpy as np\n",
    "\n",
    "from sklearn import set_config\n",
    "set_config(transform_output='pandas')"
   ]
  },
  {
   "cell_type": "markdown",
   "id": "390e0567",
   "metadata": {},
   "source": [
    "# Exploring Data"
   ]
  },
  {
   "cell_type": "code",
   "execution_count": null,
   "id": "6129d209",
   "metadata": {},
   "outputs": [],
   "source": [
    "# read file\n",
    "df_audio_features_5000 = pd.read_csv(\"df_audio_features_5000_cleaned_whitespaces.csv\",\n",
    "index_col=[\"name\", \"artist\"]\n",
    "                                    )\n",
    "\n",
    "df_audio_features_5000.drop([\"type\",\"id\",\"html\"], axis=1, inplace=True)  \n",
    "df_audio_features_5000.head()"
   ]
  },
  {
   "cell_type": "code",
   "execution_count": null,
   "id": "11bf7f0e",
   "metadata": {},
   "outputs": [],
   "source": [
    "# correlation matrix\n",
    "correlation_matrix = df_audio_features_5000.corr()\n",
    "\n",
    "# Heatmap\n",
    "plt.figure(figsize=(10, 8))\n",
    "sns.heatmap(correlation_matrix, annot=True, cmap='coolwarm')\n",
    "plt.show()"
   ]
  },
  {
   "cell_type": "code",
   "execution_count": null,
   "id": "ef4c718e",
   "metadata": {},
   "outputs": [],
   "source": [
    "# variation\n",
    "variation = df_audio_features_5000.var()\n",
    "variation"
   ]
  },
  {
   "cell_type": "code",
   "execution_count": null,
   "id": "aa61d9e5",
   "metadata": {},
   "outputs": [],
   "source": [
    "# Boxplots\n",
    "df_audio_features_5000.hist(bins=20, figsize=(10, 8))\n",
    "plt.tight_layout()\n",
    "plt.show()"
   ]
  },
  {
   "cell_type": "markdown",
   "id": "16561ced",
   "metadata": {},
   "source": [
    "# Final DataFrame"
   ]
  },
  {
   "cell_type": "code",
   "execution_count": null,
   "id": "92b9c427",
   "metadata": {},
   "outputs": [],
   "source": [
    "# read file\n",
    "df_audio_features_5000 = pd.read_csv(\"df_audio_features_5000_cleaned_whitespaces.csv\",\n",
    "index_col=[\"name\", \"artist\"]\n",
    "                                    )\n",
    "# clean data                                     \n",
    "df_audio_features_5000.drop([\"key\", \"loudness\", \"mode\", \"liveness\", \"tempo\", \"duration_ms\", \"time_signature\", \"type\",\"id\",\"html\"], axis=1, inplace=True)                               \n",
    "df_audio_features_5000.sample(50)\n",
    "\n"
   ]
  },
  {
   "cell_type": "code",
   "execution_count": null,
   "id": "b1d4718b",
   "metadata": {
    "scrolled": false
   },
   "outputs": [],
   "source": [
    "df_audio_features_5000.info()"
   ]
  },
  {
   "cell_type": "code",
   "execution_count": null,
   "id": "8004a25d",
   "metadata": {},
   "outputs": [],
   "source": [
    "df_audio_features_5000.describe()"
   ]
  },
  {
   "cell_type": "code",
   "execution_count": null,
   "id": "f547221a",
   "metadata": {
    "scrolled": true
   },
   "outputs": [],
   "source": [
    "# Boxplots\n",
    "df_audio_features_5000.hist(bins=20, figsize=(10, 8))\n",
    "plt.tight_layout()\n",
    "plt.show()"
   ]
  },
  {
   "cell_type": "code",
   "execution_count": null,
   "id": "cd2f3379",
   "metadata": {},
   "outputs": [],
   "source": [
    "# Scatterplots\n",
    "attributes = [\n",
    "    'danceability', 'energy',\n",
    "    'speechiness', 'acousticness', 'instrumentalness',\n",
    "    'valence'\n",
    "]\n",
    "\n",
    "num_rows = len(attributes)\n",
    "num_cols = len(attributes)\n",
    "\n",
    "fig, axes = plt.subplots(num_rows, num_cols, figsize=(25,25))\n",
    "\n",
    "for i, x_attribute in enumerate(attributes):\n",
    "    for j, y_attribute in enumerate(attributes):\n",
    "        ax = axes[i, j]\n",
    "        ax.scatter(x=df_audio_features_5000[x_attribute], y=df_audio_features_5000[y_attribute])\n",
    "        ax.set_xlabel(x_attribute)\n",
    "        ax.set_ylabel(y_attribute)\n",
    "\n",
    "plt.tight_layout()\n",
    "plt.show()\n",
    "\n"
   ]
  },
  {
   "cell_type": "code",
   "execution_count": null,
   "id": "fbff559a",
   "metadata": {
    "scrolled": true
   },
   "outputs": [],
   "source": [
    "# correlation matrix\n",
    "correlation_matrix = df_audio_features_5000.corr()\n",
    "\n",
    "# Heatmap\n",
    "plt.figure(figsize=(10, 8))\n",
    "sns.heatmap(correlation_matrix, annot=True, cmap='coolwarm')\n",
    "plt.show()"
   ]
  },
  {
   "cell_type": "code",
   "execution_count": null,
   "id": "5c9c969f",
   "metadata": {},
   "outputs": [],
   "source": [
    "# variation\n",
    "variation = df_audio_features_5000.var()\n",
    "variation"
   ]
  },
  {
   "cell_type": "code",
   "execution_count": null,
   "id": "97ad0cb8",
   "metadata": {},
   "outputs": [],
   "source": [
    "# Distances (Euclidean)\n",
    "eucl = pd.DataFrame(pairwise_distances(df_audio_features_5000),\n",
    "                    index=df_audio_features_5000.index,\n",
    "                    columns=df_audio_features_5000.index)\n",
    "eucl"
   ]
  },
  {
   "cell_type": "code",
   "execution_count": null,
   "id": "fd5a6cb1",
   "metadata": {
    "scrolled": true
   },
   "outputs": [],
   "source": [
    "plt.subplots(figsize=(40,25))\n",
    "sns.heatmap(eucl, cmap='coolwarm');"
   ]
  },
  {
   "cell_type": "markdown",
   "id": "1c271958",
   "metadata": {},
   "source": [
    "# Data Scaling"
   ]
  },
  {
   "cell_type": "markdown",
   "id": "3886ee11",
   "metadata": {},
   "source": [
    "## StandardScaler"
   ]
  },
  {
   "cell_type": "code",
   "execution_count": null,
   "id": "3bdab65f",
   "metadata": {
    "scrolled": true
   },
   "outputs": [],
   "source": [
    "standardscaler = StandardScaler().fit_transform(df_audio_features_5000)\n",
    "df_audio_features_5000_norm = pd.DataFrame(standardscaler, columns=df_audio_features_5000.columns, index=df_audio_features_5000.index)\n",
    "df_audio_features_5000_norm"
   ]
  },
  {
   "cell_type": "code",
   "execution_count": null,
   "id": "649b99c1",
   "metadata": {
    "scrolled": true
   },
   "outputs": [],
   "source": [
    "# Boxplots after scaling\n",
    "df_audio_features_5000_norm.hist(bins=20, figsize=(10, 8))\n",
    "plt.tight_layout()\n",
    "plt.show()"
   ]
  },
  {
   "cell_type": "code",
   "execution_count": null,
   "id": "1eb49cbf",
   "metadata": {},
   "outputs": [],
   "source": [
    "df_audio_features_5000_norm.describe()"
   ]
  },
  {
   "cell_type": "code",
   "execution_count": null,
   "id": "dcc22297",
   "metadata": {},
   "outputs": [],
   "source": [
    "# correlation\n",
    "correlation_matrix = df_audio_features_5000_norm.corr()\n",
    "\n",
    "# Heatmap\n",
    "plt.figure(figsize=(10, 8))\n",
    "sns.heatmap(correlation_matrix, annot=True, cmap='coolwarm')\n",
    "plt.show()"
   ]
  },
  {
   "cell_type": "code",
   "execution_count": null,
   "id": "1fbe5221",
   "metadata": {},
   "outputs": [],
   "source": [
    "# Scatterplots after sclaing\n",
    "attributes = [\n",
    "    'danceability', 'energy',\n",
    "    'speechiness', 'acousticness', 'instrumentalness',\n",
    "    'valence'\n",
    "]\n",
    "\n",
    "num_rows = len(attributes)\n",
    "num_cols = len(attributes)\n",
    "\n",
    "fig, axes = plt.subplots(num_rows, num_cols, figsize=(25,25))\n",
    "\n",
    "for i, x_attribute in enumerate(attributes):\n",
    "    for j, y_attribute in enumerate(attributes):\n",
    "        ax = axes[i, j]\n",
    "        ax.scatter(x=df_audio_features_5000_norm[x_attribute], y=df_audio_features_5000_norm[y_attribute])\n",
    "        ax.set_xlabel(x_attribute)\n",
    "        ax.set_ylabel(y_attribute)\n",
    "\n",
    "plt.tight_layout()\n",
    "plt.show()\n"
   ]
  },
  {
   "cell_type": "code",
   "execution_count": null,
   "id": "95e664e3",
   "metadata": {
    "scrolled": true
   },
   "outputs": [],
   "source": [
    "# Euclidean Distances\n",
    "eucl = pd.DataFrame(pairwise_distances(df_audio_features_5000_norm),\n",
    "                    index=df_audio_features_5000_norm.index,\n",
    "                    columns=df_audio_features_5000_norm.index)\n",
    "eucl"
   ]
  },
  {
   "cell_type": "code",
   "execution_count": null,
   "id": "7390c0ca",
   "metadata": {
    "scrolled": false
   },
   "outputs": [],
   "source": [
    "plt.subplots(figsize=(40,25))\n",
    "sns.heatmap(eucl, cmap='coolwarm');"
   ]
  },
  {
   "cell_type": "markdown",
   "id": "324b7449",
   "metadata": {},
   "source": [
    "# Choosing the right number of clusters"
   ]
  },
  {
   "cell_type": "markdown",
   "id": "f6db8234",
   "metadata": {},
   "source": [
    "## Inertia"
   ]
  },
  {
   "cell_type": "code",
   "execution_count": null,
   "id": "b234a63e",
   "metadata": {},
   "outputs": [],
   "source": [
    "!wmic cpu get NumberOfCores,NumberOfLogicalProcessors"
   ]
  },
  {
   "cell_type": "code",
   "execution_count": null,
   "id": "cacd6f09",
   "metadata": {},
   "outputs": [],
   "source": [
    "import os\n",
    "os.environ['OMP_NUM_THREADS']=\"7\""
   ]
  },
  {
   "cell_type": "code",
   "execution_count": null,
   "id": "c30df2bf",
   "metadata": {},
   "outputs": [],
   "source": [
    "# Test\n",
    "kmeans_2 = KMeans(n_clusters=2, n_init = \"auto\", random_state = 42)\n",
    "kmeans_2.fit(df_audio_features_5000_norm)\n",
    "inertia_2 = kmeans_2.inertia_\n",
    "inertia_2"
   ]
  },
  {
   "cell_type": "code",
   "execution_count": null,
   "id": "c3bb36df",
   "metadata": {},
   "outputs": [],
   "source": [
    "# k = 1 - 100\n",
    "max_k = 100\n",
    "\n",
    "inertia_list = []\n",
    "\n",
    "for i in range(1,max_k):\n",
    "    kmeans_all = KMeans(n_clusters=i, n_init = \"auto\", random_state = 42)\n",
    "    kmeans_all.fit(df_audio_features_5000_norm)\n",
    "    inertia_list.append(round(kmeans_all.inertia_))\n",
    "    \n",
    "inertia_list"
   ]
  },
  {
   "cell_type": "code",
   "execution_count": null,
   "id": "d221cb70",
   "metadata": {
    "scrolled": true
   },
   "outputs": [],
   "source": [
    "fig, ax = plt.subplots(figsize=(12, 6))\n",
    "plt.title(f'Inertia evolution from 1 cluster to {max_k} cluster')\n",
    "sns.lineplot(x=range(1, max_k), y=inertia_list, marker='o')\n",
    "plt.xlabel('Number of clusters')\n",
    "plt.ylabel('Inertia')\n",
    "plt.show()"
   ]
  },
  {
   "cell_type": "markdown",
   "id": "c147f091",
   "metadata": {},
   "source": [
    "## Silhouette Score"
   ]
  },
  {
   "cell_type": "code",
   "execution_count": null,
   "id": "c24544c0",
   "metadata": {
    "scrolled": true
   },
   "outputs": [],
   "source": [
    "# k = 2 - 100\n",
    "sil_score = []\n",
    "\n",
    "for k in range(2, max_k):\n",
    "    labels = KMeans(n_clusters=k, n_init = \"auto\", random_state = 42).fit(df_audio_features_5000_norm).labels_\n",
    "    sil_score.append(silhouette_score(df_audio_features_5000_norm, labels))\n",
    "\n",
    "plt.title(f'Silhouette score evolution from 2 cluster to {max_k} clusters')\n",
    "sns.lineplot(x=range(2, max_k), y=sil_score, marker='o')\n",
    "plt.show()"
   ]
  },
  {
   "cell_type": "code",
   "execution_count": null,
   "id": "39fd103b",
   "metadata": {},
   "outputs": [],
   "source": [
    "# k = 20 - 100\n",
    "sil_score = []\n",
    "\n",
    "for k in range(20, max_k):\n",
    "    labels = KMeans(n_clusters=k, n_init = \"auto\", random_state = 21).fit(df_audio_features_5000_norm).labels_\n",
    "    sil_score.append(silhouette_score(df_audio_features_5000_norm, labels))\n",
    "\n",
    "plt.title(f'Silhouette score evolution from 20 cluster to {max_k} clusters')\n",
    "sns.lineplot(x=range(20, max_k), y=sil_score, marker='o')\n",
    "plt.show()"
   ]
  },
  {
   "cell_type": "code",
   "execution_count": null,
   "id": "507cf0be",
   "metadata": {},
   "outputs": [],
   "source": [
    "# Knife graphs\n",
    "max_k = 36\n",
    "data = df_audio_features_5000_norm\n",
    "\n",
    "for k in range(7, max_k):\n",
    "    kmean_model = KMeans(n_clusters=k, n_init = \"auto\", random_state = 42).fit(data)\n",
    "    labels = kmean_model.labels_\n",
    "\n",
    "    if 1 < k < data.shape[0]:\n",
    "\n",
    "        fig, (axis1, axis2) = plt.subplots(1, 2)\n",
    "        fig.set_size_inches(20, 8)\n",
    "\n",
    "        sil_avg = silhouette_score(data, labels)\n",
    "        print(f\"* For k = {k} the average to silhouette is: {round(sil_avg,4)}\")\n",
    "        sample_sil_val = silhouette_samples(data, labels)\n",
    "\n",
    "        y_lower = 10\n",
    "\n",
    "        for i in range(k):\n",
    "            ith_cluster_sv = sample_sil_val[labels == i]\n",
    "            print(f\"\\t- For cluster = {i} the silhouette value is: {round(np.mean(ith_cluster_sv),2)}\")\n",
    "\n",
    "            ith_cluster_sv.sort()\n",
    "\n",
    "            # Calculate where to put the silhuette on the y axes\n",
    "            ith_cluster_size = ith_cluster_sv.shape[0]\n",
    "            y_upper = y_lower + ith_cluster_size\n",
    "\n",
    "\n",
    "            # Paint the cluster\n",
    "            axis1.fill_betweenx(np.arange(y_lower, y_upper),\n",
    "                               0, ith_cluster_sv,\n",
    "                                alpha = 0.7)\n",
    "\n",
    "\n",
    "            # Label the cluster\n",
    "            axis1.text(-0.05, y_lower + 0.5 * ith_cluster_size, str(i))\n",
    "\n",
    "            # Calculate the next y lower value for the next cluster of the graph\n",
    "            y_lower = y_upper + 10 # we left 10 spaces without any observation\n",
    "\n",
    "        axis1.set_title(\"Silhouette score for k = %s\"%str(k))\n",
    "        axis1.set_xlabel(\"S(i)\")\n",
    "        axis1.set_ylabel(\"Cluster ID\")\n",
    "\n",
    "\n",
    "        plt.show()"
   ]
  },
  {
   "cell_type": "markdown",
   "id": "bcf2ed69",
   "metadata": {},
   "source": [
    "# Choose k = 30"
   ]
  },
  {
   "cell_type": "code",
   "execution_count": null,
   "id": "106e9a5f",
   "metadata": {},
   "outputs": [],
   "source": [
    "kmeans_30 = KMeans(n_clusters=30, n_init = \"auto\", random_state = 42)\n",
    "kmeans_30.fit(df_audio_features_5000_norm)"
   ]
  },
  {
   "cell_type": "code",
   "execution_count": null,
   "id": "05a9e7cb",
   "metadata": {
    "scrolled": true
   },
   "outputs": [],
   "source": [
    "kmeans_30.cluster_centers_"
   ]
  },
  {
   "cell_type": "code",
   "execution_count": null,
   "id": "035b8680",
   "metadata": {},
   "outputs": [],
   "source": [
    "df_audio_features_5000_norm['cluster'] = kmeans_30.labels_\n",
    "df_audio_features_5000_norm.sample(50)"
   ]
  },
  {
   "cell_type": "markdown",
   "id": "d6eea6c9",
   "metadata": {},
   "source": [
    "### Parallel Coordinates"
   ]
  },
  {
   "cell_type": "code",
   "execution_count": null,
   "id": "446caca3",
   "metadata": {},
   "outputs": [],
   "source": [
    "fig = px.parallel_coordinates(df_audio_features_5000_norm, color=\"cluster\",\n",
    "                              dimensions=['danceability', 'energy','speechiness', 'acousticness', 'instrumentalness','valence'],\n",
    "                              color_continuous_scale=px.colors.diverging.Tealrose,\n",
    "                              color_continuous_midpoint=2)\n",
    "fig.show()"
   ]
  },
  {
   "cell_type": "markdown",
   "id": "a309e2d5",
   "metadata": {},
   "source": [
    "### Exploring the Clusters"
   ]
  },
  {
   "cell_type": "code",
   "execution_count": null,
   "id": "3bb623f2",
   "metadata": {},
   "outputs": [],
   "source": [
    "df_audio_features_5000_norm.groupby(by=\"cluster\").mean()"
   ]
  },
  {
   "cell_type": "code",
   "execution_count": null,
   "id": "42fccded",
   "metadata": {
    "scrolled": true
   },
   "outputs": [],
   "source": [
    "df_audio_features_5000_norm.groupby(by=\"cluster\").count()"
   ]
  },
  {
   "cell_type": "code",
   "execution_count": null,
   "id": "e1c16185",
   "metadata": {},
   "outputs": [],
   "source": [
    "df_audio_features_5000_norm.query(\"cluster == 0\").sample(50)"
   ]
  },
  {
   "cell_type": "code",
   "execution_count": null,
   "id": "05dd5e71",
   "metadata": {},
   "outputs": [],
   "source": [
    "centroids = kmeans_30.cluster_centers_\n",
    "centroids_df = pd.DataFrame(centroids)\n",
    "centroids_df.columns = ['danceability', 'energy',\n",
    "    'speechiness', 'acousticness', 'instrumentalness',\n",
    "    'valence', 'cluster']\n",
    "centroids_df"
   ]
  },
  {
   "cell_type": "code",
   "execution_count": null,
   "id": "6479e3ea",
   "metadata": {},
   "outputs": [],
   "source": [
    "# Distances between clusters\n",
    "eucl_centroids = pd.DataFrame(pairwise_distances(centroids_df),\n",
    "                    index=centroids_df.index,\n",
    "                    columns=centroids_df.index)\n",
    "eucl_centroids"
   ]
  },
  {
   "cell_type": "code",
   "execution_count": null,
   "id": "bce4869a",
   "metadata": {},
   "outputs": [],
   "source": [
    "plt.subplots(figsize=(12, 8))\n",
    "sns.heatmap(eucl_centroids);"
   ]
  },
  {
   "cell_type": "code",
   "execution_count": null,
   "id": "a3c3162a",
   "metadata": {},
   "outputs": [],
   "source": [
    "fig, ax = plt.subplots(figsize=(10, 8))\n",
    "\n",
    "plot_data = pd.DataFrame(df_audio_features_5000_norm)\n",
    "plot_data.columns = ['danceability', 'energy',\n",
    "    'speechiness', 'acousticness', 'instrumentalness',\n",
    "    'valence', \"cluster\"]\n",
    "plot_data[\"cluster\"] = kmeans_30.labels_\n",
    "\n",
    "sns.scatterplot(data=plot_data, x='danceability', y='energy', hue='cluster', palette='Set2', s=75)\n",
    "sns.scatterplot(data=centroids_df, x='danceability', y='energy', color='red', s=250)\n",
    "plt.show()"
   ]
  },
  {
   "cell_type": "code",
   "execution_count": null,
   "id": "e660d509",
   "metadata": {
    "scrolled": true
   },
   "outputs": [],
   "source": [
    "fig, ax = plt.subplots(figsize=(10, 8))\n",
    "\n",
    "plot_data = pd.DataFrame(df_audio_features_5000_norm)\n",
    "plot_data.columns = ['danceability', 'energy',\n",
    "    'speechiness', 'acousticness', 'instrumentalness',\n",
    "    'valence', \"cluster\"]\n",
    "plot_data[\"cluster\"] = kmeans_30.labels_\n",
    "\n",
    "sns.scatterplot(data=plot_data, x='danceability', y='speechiness', hue='cluster', palette='Set2', s=75)\n",
    "sns.scatterplot(data=centroids_df, x='danceability', y='energy', color='red', s=250)\n",
    "plt.show()"
   ]
  },
  {
   "cell_type": "code",
   "execution_count": null,
   "id": "2c2796ee",
   "metadata": {
    "scrolled": false
   },
   "outputs": [],
   "source": [
    "attributes = [\n",
    "    'danceability', 'energy',\n",
    "    'speechiness', 'acousticness', 'instrumentalness',\n",
    "    'valence'\n",
    "]\n",
    "\n",
    "num_rows = len(attributes)\n",
    "num_cols = len(attributes)\n",
    "\n",
    "fig, axes = plt.subplots(num_rows, num_cols, figsize=(25, 25))\n",
    "\n",
    "plot_data = pd.DataFrame(df_audio_features_5000_norm)\n",
    "plot_data.columns = attributes + [\"cluster\"]\n",
    "plot_data[\"cluster\"] = kmeans_30.labels_\n",
    "\n",
    "for i, x_attribute in enumerate(attributes):\n",
    "    for j, y_attribute in enumerate(attributes):\n",
    "        ax = axes[i, j]\n",
    "        \n",
    "        sns.scatterplot(data=plot_data, x=x_attribute, y=y_attribute, hue='cluster', palette='Set2', s=75, ax=ax)\n",
    "        sns.scatterplot(data=centroids_df, x=x_attribute, y=y_attribute, color='red', s=250, ax=ax)\n",
    "        \n",
    "        ax.set_xlabel(x_attribute)\n",
    "        ax.set_ylabel(y_attribute)\n",
    "        ax.get_legend().remove()\n",
    "\n",
    "plt.tight_layout()\n",
    "plt.show()"
   ]
  },
  {
   "cell_type": "code",
   "execution_count": null,
   "id": "ca47ba0c",
   "metadata": {},
   "outputs": [],
   "source": [
    "# 3D Plot with centroids\n",
    "colors = ['r','g','b']\n",
    "markers = ['o', '^','s']\n",
    "fig = plt.figure(figsize=(12, 12))\n",
    "ax = fig.add_subplot(projection='3d')\n",
    "\n",
    "for marker, d in plot_data.groupby('cluster'):\n",
    "    ax.scatter(d['danceability'], d['energy'], d['speechiness'], marker=markers[marker], label=d['cluster'])\n",
    "ax.scatter(clusters_test_2['danceability'], clusters_test_2['energy'],clusters_test_2['speechiness'], color='red', s=250)\n",
    "ax.set_xlabel('Danceability')\n",
    "ax.set_ylabel('Energy')\n",
    "ax.set_zlabel('speechiness')\n",
    "plt.show()"
   ]
  },
  {
   "cell_type": "code",
   "execution_count": null,
   "id": "e6710afc",
   "metadata": {},
   "outputs": [],
   "source": [
    "df_test = df_audio_features_5000[['danceability','energy']]\n",
    "df_test.head()"
   ]
  },
  {
   "cell_type": "code",
   "execution_count": null,
   "id": "17a59626",
   "metadata": {},
   "outputs": [],
   "source": [
    "df_test_norm = MinMaxScaler().fit_transform(df_test)\n",
    "\n",
    "# let's see the first 5 observations after normalising the data\n",
    "df_test_norm = pd.DataFrame(df_test_norm)\n",
    "df_test_norm.columns = ['danceability','energy']\n",
    "df_test_norm[:5]"
   ]
  },
  {
   "cell_type": "code",
   "execution_count": null,
   "id": "72822e38",
   "metadata": {
    "scrolled": true
   },
   "outputs": [],
   "source": [
    "kmeans_test = KMeans(n_clusters=30, n_init = \"auto\")\n",
    "kmeans_test.fit(df_test_norm)"
   ]
  },
  {
   "cell_type": "code",
   "execution_count": null,
   "id": "d232d671",
   "metadata": {},
   "outputs": [],
   "source": [
    "kmeans_test.cluster_centers_"
   ]
  },
  {
   "cell_type": "code",
   "execution_count": null,
   "id": "71bcd2e4",
   "metadata": {},
   "outputs": [],
   "source": [
    "clusters_test = pd.DataFrame(kmeans_test.cluster_centers_)\n",
    "clusters_test.columns = ['danceability','energy']\n",
    "clusters_test"
   ]
  },
  {
   "cell_type": "code",
   "execution_count": null,
   "id": "26cd1454",
   "metadata": {
    "scrolled": true
   },
   "outputs": [],
   "source": [
    "fig, ax = plt.subplots(figsize=(10, 8))\n",
    "plot_data = pd.DataFrame(df_test_norm)\n",
    "plot_data.columns = ['danceability','energy']\n",
    "\n",
    "plt.title('Comparing our centroids and our dataset')\n",
    "plt.xlabel('danceability normalised')\n",
    "plt.ylabel('energy normalised')\n",
    "sns.scatterplot(data=plot_data, x='danceability', y='energy')\n",
    "sns.scatterplot(data=clusters_test, x='danceability', y='energy', color='red', s=250)\n",
    "plt.show()"
   ]
  },
  {
   "cell_type": "markdown",
   "id": "240edb32",
   "metadata": {},
   "source": [
    "# Posting Clusters to Spotify"
   ]
  },
  {
   "cell_type": "code",
   "execution_count": null,
   "id": "fd566939",
   "metadata": {},
   "outputs": [],
   "source": [
    "# read data again to keep id (necessary for Spotify)\n",
    "df_audio_features_5000 = pd.read_csv(\"df_audio_features_5000_cleaned_whitespaces.csv\",\n",
    "index_col=[\"name\", \"artist\"]\n",
    "                                    )\n",
    "                                     \n",
    "df_audio_features_5000.drop([\"key\", \"loudness\", \"mode\", \"liveness\", \"tempo\", \"duration_ms\", \"time_signature\", \"type\",\"html\"], axis=1, inplace=True)                               \n",
    "df_audio_features_5000.sample(50)"
   ]
  },
  {
   "cell_type": "code",
   "execution_count": null,
   "id": "a7d0b3f2",
   "metadata": {},
   "outputs": [],
   "source": [
    "to_scale = [\"danceability\", \"energy\", \"speechiness\", \"acousticness\", \"instrumentalness\", \"valence\"]\n",
    "\n",
    "scaled_songs = df_audio_features_5000.copy()\n",
    "scaled_songs[to_scale] = StandardScaler().fit_transform(df_audio_features_5000[to_scale])\n",
    "scaled_songs"
   ]
  },
  {
   "cell_type": "code",
   "execution_count": null,
   "id": "31b5179a",
   "metadata": {},
   "outputs": [],
   "source": [
    "kmeans = KMeans(n_clusters=30, n_init=\"auto\")\n",
    "kmeans.fit(scaled_songs.iloc[:, 1:-2])"
   ]
  },
  {
   "cell_type": "code",
   "execution_count": null,
   "id": "926ee5fa",
   "metadata": {},
   "outputs": [],
   "source": [
    "labeled_songs = df_audio_features_5000.copy()\n",
    "labeled_songs[\"cluster\"] = kmeans.labels_\n",
    "labeled_songs"
   ]
  },
  {
   "cell_type": "code",
   "execution_count": null,
   "id": "5e8dd957",
   "metadata": {},
   "outputs": [],
   "source": [
    "!pip install spotipy"
   ]
  },
  {
   "cell_type": "code",
   "execution_count": null,
   "id": "481ad808",
   "metadata": {},
   "outputs": [],
   "source": [
    "import spotipy\n",
    "import pickle\n",
    "from spotipy.oauth2 import SpotifyOAuth\n"
   ]
  },
  {
   "cell_type": "code",
   "execution_count": null,
   "id": "4e91b6f4",
   "metadata": {},
   "outputs": [],
   "source": [
    "scope = 'playlist-modify-public'\n",
    "username = \"YOUR_USERNAME\"\n",
    "redirectUri = \"YOUR_HOST\"\n",
    "client_id = \"YOUR_CLIENT_ID\"\n",
    "client_secret = \"YOUR_CLIENT_SECRET\"\n",
    "\n",
    "token = SpotifyOAuth(scope=scope,\n",
    "                     username=username,\n",
    "                     client_id=client_id,\n",
    "                     client_secret=client_secret,\n",
    "                     redirect_uri=redirectUri,\n",
    "#                      open_browser=False                    # this line is need in Colab, but not on local machine\n",
    "                     )\n",
    "spotifyObject = spotipy.Spotify(auth_manager = token)"
   ]
  },
  {
   "cell_type": "code",
   "execution_count": null,
   "id": "f0455b9d",
   "metadata": {},
   "outputs": [],
   "source": [
    "playlist_collection = {}\n",
    "for i in range(20):\n",
    "    playlist_name = f'my_playlist_cluster_{i}'\n",
    "    playlist_description= 'this is a test list'\n",
    "    playlist_id = spotifyObject.user_playlist_create(user=username,\n",
    "                                                     name=playlist_name,\n",
    "                                                     public=True,\n",
    "                                                     description=playlist_description)['id']\n",
    "    id_list = list(labeled_songs.loc[labeled_songs[\"cluster\"] == i]\n",
    "                                .sample(50)\n",
    "                                .id)\n",
    "    uris = [f'spotify:track:{str(id).strip()}' for id in id_list]\n",
    "    spotifyObject.user_playlist_add_tracks(user=username,playlist_id=playlist_id,tracks=uris)\n",
    "    playlist_collection[playlist_name] = playlist_id"
   ]
  },
  {
   "cell_type": "code",
   "execution_count": null,
   "id": "7faa7331",
   "metadata": {},
   "outputs": [],
   "source": [
    "labeled_songs.query(\"cluster == 6\").head(20)\n"
   ]
  }
 ],
 "metadata": {
  "kernelspec": {
   "display_name": "Python 3 (ipykernel)",
   "language": "python",
   "name": "python3"
  },
  "language_info": {
   "codemirror_mode": {
    "name": "ipython",
    "version": 3
   },
   "file_extension": ".py",
   "mimetype": "text/x-python",
   "name": "python",
   "nbconvert_exporter": "python",
   "pygments_lexer": "ipython3",
   "version": "3.11.3"
  },
  "toc": {
   "base_numbering": 1,
   "nav_menu": {},
   "number_sections": true,
   "sideBar": true,
   "skip_h1_title": false,
   "title_cell": "Table of Contents",
   "title_sidebar": "Contents",
   "toc_cell": false,
   "toc_position": {},
   "toc_section_display": true,
   "toc_window_display": false
  }
 },
 "nbformat": 4,
 "nbformat_minor": 5
}
